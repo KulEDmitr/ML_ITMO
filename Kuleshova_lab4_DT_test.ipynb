{
  "nbformat": 4,
  "nbformat_minor": 0,
  "metadata": {
    "colab": {
      "name": "Kuleshova_lab4_DT_test.ipynb",
      "provenance": [],
      "collapsed_sections": []
    },
    "kernelspec": {
      "display_name": "Python 3",
      "name": "python3"
    }
  },
  "cells": [
    {
      "cell_type": "markdown",
      "metadata": {
        "id": "hGClrhQA9SAk"
      },
      "source": [
        "# Деревья решений"
      ]
    },
    {
      "cell_type": "markdown",
      "metadata": {
        "id": "veekMy8WRjBi"
      },
      "source": [
        "## Построение дерева"
      ]
    },
    {
      "cell_type": "markdown",
      "metadata": {
        "id": "SYkVwAFiUHXj"
      },
      "source": [
        "Опишем жадный алгоритм построения бинарного дерева решений:\n",
        "1. Начинаем со всей обучающей выборки $X$, которую помещаем в корень $R_1$. \n",
        "2. Задаём функционал качества $Q(X, j, t)$ и критерий остановки. \n",
        "3. Запускаем построение из корня: $SplitNode(1, R_1)$\n",
        "\n",
        "Функция $SplitNode(m, R_m)$\n",
        "1. Если выполнен критерий остановки, то выход.\n",
        "2. Находим наилучший с точки зрения $Q$ предикат: $j, t$: $[x_j<t]$\n",
        "3. Помещаем предикат в вкршину и получаем с его помощью разбиение $X$ на две части: $R_{left} = \\lbrace x|x_j<t \\rbrace$ и $R_{right} = \\lbrace x|x_j \\geqslant t \\rbrace$\n",
        "4. Поместим $R_{left}$ и $R_{right}$ соответсвенно в левое и правое поддерево.\n",
        "5. Рекурсивно повторяем $SplitNode(left, R_{left})$ и $SplitNode(right, R_{right})$.\n",
        "\n",
        "В конце поставим в соответствие каждому листу ответ. Для задачи классификации - это самый частый среди объектов класс или вектор с долями классов (можно интерпретировать как вероятности):\n",
        "$$ c_v = \\arg \\max_{k\\in Y} \\sum_{(x_i,y_i) \\in R_v} [y_i=k]  $$"
      ]
    },
    {
      "cell_type": "markdown",
      "metadata": {
        "id": "9P6FsdBog4Ai"
      },
      "source": [
        "## Функционал качества для деревьев решений\n"
      ]
    },
    {
      "cell_type": "markdown",
      "metadata": {
        "id": "9VAKO0aykGBD"
      },
      "source": [
        "Энтропия Шеннона для системы с N возможными состояниями определяется по формуле:\n",
        "$$H = - \\sum_{i=0}^{N} p_i\\log_2p_i $$"
      ]
    },
    {
      "cell_type": "markdown",
      "metadata": {
        "id": "5582B-1Fn2bw"
      },
      "source": [
        "где $p_i$ – вероятности нахождения системы в $i$-ом состоянии. \n",
        "\n",
        "Это очень важное понятие теории информации, которое позволяет оценить количество информации (степень хаоса в системе). Чем выше энтропия, тем менее упорядочена система и наоборот. С помощью энтропии мы формализуем функционал качества для разделение выборки (для задачи классификации)."
      ]
    },
    {
      "cell_type": "code",
      "metadata": {
        "id": "PbcMUd7bvk05"
      },
      "source": [
        "import numpy as np\n",
        "import pandas as pd\n",
        "\n",
        "import matplotlib.pyplot as plt\n",
        "\n",
        "import random\n",
        "from pprint import pprint"
      ],
      "execution_count": null,
      "outputs": []
    },
    {
      "cell_type": "markdown",
      "metadata": {
        "id": "4AdLxP9CowTm"
      },
      "source": [
        "Код для расчёта энтропии:"
      ]
    },
    {
      "cell_type": "code",
      "metadata": {
        "id": "2mT8Jq8Av2sM"
      },
      "source": [
        "def entropy(y):\n",
        "    \n",
        "    _, counts = np.unique(y, return_counts=True)\n",
        "\n",
        "    probabilities = counts / counts.sum()\n",
        "    entropy = sum(probabilities * -np.log2(probabilities))\n",
        "     \n",
        "    return entropy"
      ],
      "execution_count": null,
      "outputs": []
    },
    {
      "cell_type": "markdown",
      "metadata": {
        "id": "Xk9etb2vo7fK"
      },
      "source": [
        "Здесь $y$ - это массив значений целевой переменной"
      ]
    },
    {
      "cell_type": "markdown",
      "metadata": {
        "id": "07TCw0USzLus"
      },
      "source": [
        "Энтропия – по сути степень хаоса (или неопределенности) в системе. Уменьшение энтропии называют приростом информации (information gain, IG).\n",
        "\n",
        "Обочначим $R_v$ - объекты, которые нужно разделить в помощью предиката в вершине $v$. Запишем формулу для расчёта информационного прироста:\n",
        "$$ Q = IG = H(R_v) - (H(R_{left})+H(R_{right}))$$\n",
        "\n",
        "На каждом шаге нам нужно максимизировать этот функционал качества. Как это делать? Например, так можно перебрать $t$ для выбранного $j$."
      ]
    },
    {
      "cell_type": "markdown",
      "metadata": {
        "id": "trEWHDoXg_p9"
      },
      "source": [
        "Предыдущая версия формулы прироста информации слишком упрощена. В работе необходимо использовать более устойчивую формулу, которая учитывает не только энтропию подмножеств, но и их размер. \n",
        "\n",
        "$$ Q = IG = H(R_v) - \\Big (\\frac{|R_{left}|} {|R_{v}|} H(R_{left})+ \\frac{|R_{right}|} {|R_{v}|} H(R_{right})\\Big)$$\n",
        "\n",
        "где, $|R_{v}|$, $|R_{left}|$ и $|R_{right}|$ - количество элементов в соответствующих множествах."
      ]
    },
    {
      "cell_type": "code",
      "metadata": {
        "id": "B1NPst6CMKWD"
      },
      "source": [
        "def get_IG(v, left, right) :\n",
        "    r_v, r_left, r_right = len(v), len(left), len(right)\n",
        "    return entropy(v) - (r_left * entropy(left) + r_right * entropy(right)) / r_v"
      ],
      "execution_count": null,
      "outputs": []
    },
    {
      "cell_type": "markdown",
      "metadata": {
        "id": "9xmN6V_N1xBr"
      },
      "source": [
        "\n",
        "### Задание 4.1"
      ]
    },
    {
      "cell_type": "markdown",
      "metadata": {
        "id": "nWFHZScF2CBF"
      },
      "source": [
        "Реализуйте алгоритм построения дерева. Должны быть отдельные функции (методы) для расчёта энтропии (уже есть), для разделения дерева (используйте `pandas`), для подсчёта функционала качества $IG$, для выбора наилучшего разделения (с учетом признакоd и порогов), для проверки критерия остановки.\n",
        "\n",
        "Для набора данных `iris` реализуйте алгоритм и минимум три из разными критерия остановки из перечисленных ниже:\n",
        "* максимальной глубины дерева = 5\n",
        "* минимального числа объектов в листе = 5\n",
        "* максимальное количество листьев в дереве = 5\n",
        "* purity (остановка, если все объекты в листе относятся к одному классу)\n",
        "\n",
        "Реализуйте функцию `predict` (на вход функции подаётся датафрейм с объектами)"
      ]
    },
    {
      "cell_type": "code",
      "metadata": {
        "id": "N95KhZX9k65W"
      },
      "source": [
        "class node :\n",
        "    def __init__(self, data = None, target = None):\n",
        "        self.data = data\n",
        "        self.target = target\n",
        "        self.best_split_param = None\n",
        "        self.split_value = None\n",
        "        self.left = None\n",
        "        self.right = None\n",
        "        self.item_class = None\n",
        "\n",
        "    def indicate(self, item) :\n",
        "        return item[self.best_split_param] < self.split_value"
      ],
      "execution_count": null,
      "outputs": []
    },
    {
      "cell_type": "code",
      "metadata": {
        "id": "NaqCxkT3yPsg"
      },
      "source": [
        "from scipy.stats import mode"
      ],
      "execution_count": null,
      "outputs": []
    },
    {
      "cell_type": "code",
      "metadata": {
        "id": "UowkjLBonwY8"
      },
      "source": [
        "class decision_tree :\n",
        "    def __init__(self, max_depth = 5, min_leaf_size = 5, max_leaf_count = 5):\n",
        "        self.root = None\n",
        "        self.max_depth = max_depth\n",
        "        self.min_leaf_size = min_leaf_size\n",
        "        self.max_leaf_count = max_leaf_count\n",
        "    \n",
        "#choose the best splitting {\n",
        "    def get_param_split(self, node, param) :\n",
        "        grid = np.linspace(node.data[param].min(), node.data[param].max(), 10)\n",
        "        best_IG = -1\n",
        "        best_value = grid[0]\n",
        "\n",
        "        for value in grid :\n",
        "            cond = node.data[param] < value\n",
        "\n",
        "            IG = get_IG(node.target, node.target[cond], node.target[~cond])\n",
        "\n",
        "            if IG > best_IG :\n",
        "                best_value, best_IG = value, IG\n",
        "\n",
        "        return best_value, best_IG\n",
        "\n",
        "    def get_best_split(self, node, k_params) :\n",
        "        best_IG = -1\n",
        "        best_value = None\n",
        "        best_param = None\n",
        "\n",
        "        if k_params is not None :\n",
        "            params = np.random.choice(node.data.columns, k_params)\n",
        "        else :\n",
        "            params = node.data.columns\n",
        "\n",
        "        for param in params :\n",
        "            value, IG = self.get_param_split(node, param)\n",
        "\n",
        "            if IG > best_IG :\n",
        "                best_value, best_IG, best_param = value, IG, param\n",
        "\n",
        "        return best_param, best_value\n",
        "#}\n",
        "\n",
        "#check stopping criterions {\n",
        "    def get_depth(self, node) :\n",
        "        if node is None :\n",
        "            return 0\n",
        "        return 1 + max(self.get_depth(node.left), self.get_depth(node.right))\n",
        "\n",
        "    def get_node_size(self, node) :\n",
        "        if node is None :\n",
        "            return 0\n",
        "        return len(node.target)\n",
        "\n",
        "    def get_leaf_count(self, node) :\n",
        "        if node is None :\n",
        "            return 0\n",
        "        if node.left is None and node.right is None :\n",
        "            return 1\n",
        "        return self.get_leaf_count(node.left) + self.get_leaf_count(node.right)\n",
        "\n",
        "    def is_stop_criterion_violated(self, criterion, node) :\n",
        "        is_stop = (self.get_node_size(node.left) == 0 or \n",
        "                   self.get_node_size(node.right) == 0)\n",
        "        if not is_stop :\n",
        "            if criterion == 'max_depth':\n",
        "                is_stop = self.get_depth(self.root) > self.max_depth\n",
        "            elif criterion == 'min_leaf_size':\n",
        "                is_stop = (self.get_node_size(node.left) < self.min_leaf_size or \n",
        "                          self.get_node_size(node.right) < self.min_leaf_size)\n",
        "            elif criterion == 'max_leaf_count':\n",
        "                is_stop = self.get_leaf_count(self.root) > self.max_leaf_count\n",
        "        return is_stop\n",
        "\n",
        "    def is_purity(self, criterion, node) :\n",
        "        if criterion == 'purity' :\n",
        "            return len(set(node.target)) == 1\n",
        "        return False\n",
        "#}\n",
        "\n",
        "#build decision_tree {\n",
        "    def create_node(self, data, target) :\n",
        "        return node(data, target)\n",
        "\n",
        "    def make_terminal(self, node):\n",
        "        if node is not None and node.target is not None :\n",
        "            node.item_class = mode(node.target).mode[0]\n",
        "        \n",
        "    def fit(self, X_train, y_train, criterion, node = None, k_params = None) : #X_train is database\n",
        "        if self.root is None : \n",
        "            self.root = self.create_node(X_train, y_train)\n",
        "            node = self.root\n",
        "\n",
        "        if not self.is_purity(criterion, node) :\n",
        "            best_split_param, split_value = self.get_best_split(node, k_params)\n",
        "            best_split_cond = node.data[best_split_param] < split_value\n",
        "\n",
        "            node.left = self.create_node(node.data[best_split_cond], \n",
        "                                        node.target[best_split_cond])\n",
        "            node.right = self.create_node(node.data[~best_split_cond], \n",
        "                                          node.target[~best_split_cond])\n",
        "            \n",
        "            if self.is_stop_criterion_violated(criterion, node) :\n",
        "                node.left = node.right = None\n",
        "\n",
        "        if node.left is None and node.right is None :\n",
        "            self.make_terminal(node)\n",
        "            return node\n",
        "\n",
        "        node.best_split_param = best_split_param\n",
        "        node.split_value = split_value\n",
        "\n",
        "        self.fit(node.data[best_split_cond], node.target[best_split_cond], criterion, node.left)\n",
        "        self.fit(node.data[~best_split_cond], node.target[~best_split_cond], criterion, node.right)\n",
        "\n",
        "        return self\n",
        "#}\n",
        "\n",
        "#make prediction {\n",
        "    def predict(self, X_test) : #X_test is database\n",
        "        predicted_target = np.array(X_test.index)\n",
        "        for index, item in X_test.iterrows():\n",
        "            node = self.root\n",
        "            \n",
        "            while node.item_class is None :\n",
        "                if node.indicate(item) :\n",
        "                    node = node.left\n",
        "                else:\n",
        "                    node = node.right\n",
        "            \n",
        "            predicted_target[index] = node.item_class\n",
        "\n",
        "        return predicted_target\n",
        "#}"
      ],
      "execution_count": null,
      "outputs": []
    },
    {
      "cell_type": "code",
      "metadata": {
        "id": "e4arAYBSdETf"
      },
      "source": [
        "from sklearn import datasets\n",
        "from sklearn.model_selection import train_test_split\n",
        "\n",
        "iris = datasets.load_iris()\n",
        "X_train, X_test, y_train, y_test = train_test_split(iris.data, iris.target, test_size=0.33, random_state=42)"
      ],
      "execution_count": null,
      "outputs": []
    },
    {
      "cell_type": "code",
      "metadata": {
        "id": "lmr8pKcO_Q7e"
      },
      "source": [
        "X_train_df = pd.DataFrame(data = X_train, columns = iris['feature_names'])\n",
        "X_test_df = pd.DataFrame(data = X_test, columns = iris['feature_names'])"
      ],
      "execution_count": null,
      "outputs": []
    },
    {
      "cell_type": "code",
      "metadata": {
        "id": "V2yVpuAcDqPh"
      },
      "source": [
        "model_1 = decision_tree().fit(X_train_df, y_train, 'max_depth')\n",
        "model_2 = decision_tree().fit(X_train_df, y_train, 'min_leaf_size')\n",
        "model_3 = decision_tree().fit(X_train_df, y_train, 'max_leaf_count')\n",
        "model_4 = decision_tree().fit(X_train_df, y_train, 'purity')"
      ],
      "execution_count": null,
      "outputs": []
    },
    {
      "cell_type": "code",
      "metadata": {
        "id": "bLY0K_e5SsTo"
      },
      "source": [
        "y_predicted_1 = model_1.predict(X_test_df)\n",
        "y_predicted_2 = model_2.predict(X_test_df)\n",
        "y_predicted_3 = model_3.predict(X_test_df)\n",
        "y_predicted_4 = model_4.predict(X_test_df)"
      ],
      "execution_count": null,
      "outputs": []
    },
    {
      "cell_type": "markdown",
      "metadata": {
        "id": "cXs8d2WPDbjk"
      },
      "source": [
        "Оцените точность каждой модели с помощью метрики точность (`from sklearn.metrics import accuracy_score` или реализовать свою)."
      ]
    },
    {
      "cell_type": "code",
      "metadata": {
        "id": "dN4qYurUkm9U"
      },
      "source": [
        "def accuracy_score(y_test, y_predicted) :\n",
        "    same = sum(y_test[i] == y_predicted[i] for i in range(len(y_test)))\n",
        "    return same / len(y_test)"
      ],
      "execution_count": null,
      "outputs": []
    },
    {
      "cell_type": "code",
      "metadata": {
        "colab": {
          "base_uri": "https://localhost:8080/"
        },
        "id": "FB0L7qqLSyYa",
        "outputId": "4c1f8a9a-95a5-4e0d-a48c-c68137c9bd06"
      },
      "source": [
        "print('--- accuracy scores ---', \n",
        "      '\\nmax_depth      :  ', accuracy_score(y_test, y_predicted_1), \n",
        "      '\\nmin_leaf_size  :  ', accuracy_score(y_test, y_predicted_2), \n",
        "      '\\nmax_leaf_count :  ', accuracy_score(y_test, y_predicted_3), \n",
        "      '\\npurity         :  ', accuracy_score(y_test, y_predicted_4))"
      ],
      "execution_count": null,
      "outputs": [
        {
          "output_type": "stream",
          "name": "stdout",
          "text": [
            "--- accuracy scores --- \n",
            "max_depth      :   1.0 \n",
            "min_leaf_size  :   0.98 \n",
            "max_leaf_count :   1.0 \n",
            "purity         :   0.98\n"
          ]
        }
      ]
    },
    {
      "cell_type": "markdown",
      "metadata": {
        "id": "BkyCjLcy_CTM"
      },
      "source": [
        "##  Случайный лес"
      ]
    },
    {
      "cell_type": "markdown",
      "metadata": {
        "id": "7fKZe1FyRgCa"
      },
      "source": [
        "Опишем алгоритм случайный лес (*random forest*) и попутно разберём основные идеи:\n",
        "\n",
        "1. Зададим $N$ - число деревьев в лесу.\n",
        "2. Для каждого $n$ из $N$ сгенерируем свою выборку $X_n$. Пусть $m$ - это количество объектов в $X$. При генерации каждой $X_n$ мы будем брать объекты $m$ раз с возвращением. То есть один и тот же объект может попасть в выборку несколько раз, а какие-то объекты не попадут. (Этот способ назвается бутстрап).\n",
        "3. По каждой $X_n$ построим решающее дерево $b_n$. Обычно стараются делать глубокие деревья. В качестве критериев остановки можно использовать `max_depth` или `min_samples_leaf` (например, пока в каждом листе не окажется по одному объекту). При каждом разбиении сначала выбирается $k$ (эвристика $k = \\sqrt d$, где $d$ - это число признаков объектов из выборки $X$) случайных признаков из исходных, и оптимальное разделение выборки ищется только среди них. Обратите внимание, что мы не выбрасываем оставшиеся признаки!\n",
        "4. Итоговый алгоритм будет представлять собой результат голосования (для классификации) и среднее арифметическое (для регрессии). Модификация алгоритма предполагает учёт весов каждого отдельного слабого алгоритма в ансамбле, но в этом особо нет смысла.\n"
      ]
    },
    {
      "cell_type": "markdown",
      "metadata": {
        "id": "YJBQ8lc0WyrN"
      },
      "source": [
        "### Задание 4.2"
      ]
    },
    {
      "cell_type": "markdown",
      "metadata": {
        "id": "y594Jn04ZTCm"
      },
      "source": [
        "В качестве набора данных используйте: https://www.kaggle.com/mathchi/churn-for-bank-customers\n",
        "\n",
        "Там есть описание и примеры работы с этими данными. Если кратко, речь идёт про задачу прогнозирования оттока клиентов. Есть данные о 10 тысячах клиентов банка, часть из которых больше не являются клиентами."
      ]
    },
    {
      "cell_type": "code",
      "metadata": {
        "colab": {
          "base_uri": "https://localhost:8080/"
        },
        "id": "JZbecGjdt_5-",
        "outputId": "a9036538-9883-4a37-b6ef-352a6fc8e512"
      },
      "source": [
        "from google.colab import drive\n",
        "drive.mount('/content/drive')"
      ],
      "execution_count": null,
      "outputs": [
        {
          "output_type": "stream",
          "name": "stdout",
          "text": [
            "Drive already mounted at /content/drive; to attempt to forcibly remount, call drive.mount(\"/content/drive\", force_remount=True).\n"
          ]
        }
      ]
    },
    {
      "cell_type": "markdown",
      "metadata": {
        "id": "wstBBXu30ZI-"
      },
      "source": [
        "Content\n",
        "- RowNumber — corresponds to the record (row) number and has no effect on the output. (DROP)\n",
        "- CustomerId — contains random values and has no effect on customer leaving the bank. (DROP)\n",
        "- Surname — the surname of a customer has no impact on their decision to leave the bank. (DROP)\n",
        "- CreditScore — can have an effect on customer churn, since a customer with a higher credit score is less likely to leave the bank.\n",
        "- Geography — a customer’s location can affect their decision to leave the bank.\n",
        "- Gender — it’s interesting to explore whether gender plays a role in a customer leaving the bank.\n",
        "- Age — this is certainly relevant, since older customers are less likely to leave their bank than younger ones.\n",
        "- Tenure — refers to the number of years that the customer has been a client of the bank. Normally, older clients are more loyal and less likely to leave a bank.\n",
        "- Balance — also a very good indicator of customer churn, as people with a higher balance in their accounts are less likely to leave the bank compared to those with lower balances.\n",
        "- NumOfProducts — refers to the number of products that a customer has purchased through the bank.\n",
        "- HasCrCard — denotes whether or not a customer has a credit card. This column is also relevant, since people with a credit card are less likely to leave the bank.\n",
        "- IsActiveMember — active customers are less likely to leave the bank.\n",
        "- EstimatedSalary — as with balance, people with lower salaries are more likely to leave the bank compared to those with higher salaries.\n",
        "- Exited — whether or not the customer left the bank."
      ]
    },
    {
      "cell_type": "code",
      "metadata": {
        "colab": {
          "base_uri": "https://localhost:8080/",
          "height": 204
        },
        "id": "sUHY9_V-AltK",
        "outputId": "2969acfc-ca91-4b0f-b59f-d8b1bf331977"
      },
      "source": [
        "churn = pd.read_csv('/content/drive/MyDrive/Colab Notebooks/data/churn.csv')\n",
        "churn = churn.drop(['RowNumber','CustomerId','Surname'], axis = 1)\n",
        "churn.sample(5)"
      ],
      "execution_count": null,
      "outputs": [
        {
          "output_type": "execute_result",
          "data": {
            "text/html": [
              "<div>\n",
              "<style scoped>\n",
              "    .dataframe tbody tr th:only-of-type {\n",
              "        vertical-align: middle;\n",
              "    }\n",
              "\n",
              "    .dataframe tbody tr th {\n",
              "        vertical-align: top;\n",
              "    }\n",
              "\n",
              "    .dataframe thead th {\n",
              "        text-align: right;\n",
              "    }\n",
              "</style>\n",
              "<table border=\"1\" class=\"dataframe\">\n",
              "  <thead>\n",
              "    <tr style=\"text-align: right;\">\n",
              "      <th></th>\n",
              "      <th>CreditScore</th>\n",
              "      <th>Geography</th>\n",
              "      <th>Gender</th>\n",
              "      <th>Age</th>\n",
              "      <th>Tenure</th>\n",
              "      <th>Balance</th>\n",
              "      <th>NumOfProducts</th>\n",
              "      <th>HasCrCard</th>\n",
              "      <th>IsActiveMember</th>\n",
              "      <th>EstimatedSalary</th>\n",
              "      <th>Exited</th>\n",
              "    </tr>\n",
              "  </thead>\n",
              "  <tbody>\n",
              "    <tr>\n",
              "      <th>5193</th>\n",
              "      <td>562</td>\n",
              "      <td>Spain</td>\n",
              "      <td>Female</td>\n",
              "      <td>29</td>\n",
              "      <td>9</td>\n",
              "      <td>120307.58</td>\n",
              "      <td>1</td>\n",
              "      <td>1</td>\n",
              "      <td>1</td>\n",
              "      <td>6795.61</td>\n",
              "      <td>0</td>\n",
              "    </tr>\n",
              "    <tr>\n",
              "      <th>8298</th>\n",
              "      <td>644</td>\n",
              "      <td>Germany</td>\n",
              "      <td>Female</td>\n",
              "      <td>51</td>\n",
              "      <td>4</td>\n",
              "      <td>95560.04</td>\n",
              "      <td>1</td>\n",
              "      <td>0</td>\n",
              "      <td>0</td>\n",
              "      <td>72628.84</td>\n",
              "      <td>1</td>\n",
              "    </tr>\n",
              "    <tr>\n",
              "      <th>6793</th>\n",
              "      <td>623</td>\n",
              "      <td>Germany</td>\n",
              "      <td>Male</td>\n",
              "      <td>50</td>\n",
              "      <td>7</td>\n",
              "      <td>126608.37</td>\n",
              "      <td>1</td>\n",
              "      <td>0</td>\n",
              "      <td>1</td>\n",
              "      <td>645.61</td>\n",
              "      <td>1</td>\n",
              "    </tr>\n",
              "    <tr>\n",
              "      <th>7934</th>\n",
              "      <td>629</td>\n",
              "      <td>Spain</td>\n",
              "      <td>Male</td>\n",
              "      <td>31</td>\n",
              "      <td>6</td>\n",
              "      <td>132876.55</td>\n",
              "      <td>1</td>\n",
              "      <td>1</td>\n",
              "      <td>1</td>\n",
              "      <td>130862.11</td>\n",
              "      <td>0</td>\n",
              "    </tr>\n",
              "    <tr>\n",
              "      <th>5452</th>\n",
              "      <td>558</td>\n",
              "      <td>France</td>\n",
              "      <td>Female</td>\n",
              "      <td>45</td>\n",
              "      <td>1</td>\n",
              "      <td>153697.53</td>\n",
              "      <td>2</td>\n",
              "      <td>0</td>\n",
              "      <td>0</td>\n",
              "      <td>89891.40</td>\n",
              "      <td>1</td>\n",
              "    </tr>\n",
              "  </tbody>\n",
              "</table>\n",
              "</div>"
            ],
            "text/plain": [
              "      CreditScore Geography  Gender  ...  IsActiveMember  EstimatedSalary  Exited\n",
              "5193          562     Spain  Female  ...               1          6795.61       0\n",
              "8298          644   Germany  Female  ...               0         72628.84       1\n",
              "6793          623   Germany    Male  ...               1           645.61       1\n",
              "7934          629     Spain    Male  ...               1        130862.11       0\n",
              "5452          558    France  Female  ...               0         89891.40       1\n",
              "\n",
              "[5 rows x 11 columns]"
            ]
          },
          "metadata": {},
          "execution_count": 53
        }
      ]
    },
    {
      "cell_type": "markdown",
      "metadata": {
        "id": "mOCNdlA6IhhF"
      },
      "source": [
        "Предобработка категориальных признаков\n",
        "- One-hot кодирование - не самая хорошая идея для деревьев. Мы порождаем много новых признаков, вследсвие чего сложнее становится выбор предиката на каждом шаге.\n",
        "\n",
        "- Label encoding - совсем странная штука, так как в ней просто текстовые значения заменяются числовыми.\n",
        "\n",
        "- Нужно использовать разновидность target encoding"
      ]
    },
    {
      "cell_type": "code",
      "metadata": {
        "colab": {
          "base_uri": "https://localhost:8080/",
          "height": 204
        },
        "id": "rpyX01UTHgmT",
        "outputId": "dbd07216-c22d-4807-fe4b-06a4ac976370"
      },
      "source": [
        "import category_encoders\n",
        "from category_encoders import TargetEncoder\n",
        "\n",
        "encoder = TargetEncoder()\n",
        "param_to_encode = ['Geography', 'Gender']\n",
        "\n",
        "churn[param_to_encode] = encoder.fit_transform(churn[param_to_encode], churn['Exited'])\n",
        "churn.sample(5)"
      ],
      "execution_count": null,
      "outputs": [
        {
          "output_type": "execute_result",
          "data": {
            "text/html": [
              "<div>\n",
              "<style scoped>\n",
              "    .dataframe tbody tr th:only-of-type {\n",
              "        vertical-align: middle;\n",
              "    }\n",
              "\n",
              "    .dataframe tbody tr th {\n",
              "        vertical-align: top;\n",
              "    }\n",
              "\n",
              "    .dataframe thead th {\n",
              "        text-align: right;\n",
              "    }\n",
              "</style>\n",
              "<table border=\"1\" class=\"dataframe\">\n",
              "  <thead>\n",
              "    <tr style=\"text-align: right;\">\n",
              "      <th></th>\n",
              "      <th>CreditScore</th>\n",
              "      <th>Geography</th>\n",
              "      <th>Gender</th>\n",
              "      <th>Age</th>\n",
              "      <th>Tenure</th>\n",
              "      <th>Balance</th>\n",
              "      <th>NumOfProducts</th>\n",
              "      <th>HasCrCard</th>\n",
              "      <th>IsActiveMember</th>\n",
              "      <th>EstimatedSalary</th>\n",
              "      <th>Exited</th>\n",
              "    </tr>\n",
              "  </thead>\n",
              "  <tbody>\n",
              "    <tr>\n",
              "      <th>3465</th>\n",
              "      <td>692</td>\n",
              "      <td>0.324432</td>\n",
              "      <td>0.250715</td>\n",
              "      <td>43</td>\n",
              "      <td>2</td>\n",
              "      <td>69014.49</td>\n",
              "      <td>2</td>\n",
              "      <td>0</td>\n",
              "      <td>0</td>\n",
              "      <td>164621.43</td>\n",
              "      <td>0</td>\n",
              "    </tr>\n",
              "    <tr>\n",
              "      <th>6228</th>\n",
              "      <td>663</td>\n",
              "      <td>0.324432</td>\n",
              "      <td>0.164559</td>\n",
              "      <td>42</td>\n",
              "      <td>5</td>\n",
              "      <td>90248.79</td>\n",
              "      <td>1</td>\n",
              "      <td>1</td>\n",
              "      <td>1</td>\n",
              "      <td>79169.73</td>\n",
              "      <td>0</td>\n",
              "    </tr>\n",
              "    <tr>\n",
              "      <th>2091</th>\n",
              "      <td>661</td>\n",
              "      <td>0.161548</td>\n",
              "      <td>0.250715</td>\n",
              "      <td>37</td>\n",
              "      <td>5</td>\n",
              "      <td>136425.18</td>\n",
              "      <td>1</td>\n",
              "      <td>1</td>\n",
              "      <td>0</td>\n",
              "      <td>81102.81</td>\n",
              "      <td>0</td>\n",
              "    </tr>\n",
              "    <tr>\n",
              "      <th>9007</th>\n",
              "      <td>726</td>\n",
              "      <td>0.161548</td>\n",
              "      <td>0.164559</td>\n",
              "      <td>31</td>\n",
              "      <td>9</td>\n",
              "      <td>0.00</td>\n",
              "      <td>2</td>\n",
              "      <td>1</td>\n",
              "      <td>1</td>\n",
              "      <td>106117.30</td>\n",
              "      <td>0</td>\n",
              "    </tr>\n",
              "    <tr>\n",
              "      <th>2613</th>\n",
              "      <td>630</td>\n",
              "      <td>0.161548</td>\n",
              "      <td>0.164559</td>\n",
              "      <td>26</td>\n",
              "      <td>7</td>\n",
              "      <td>129837.72</td>\n",
              "      <td>2</td>\n",
              "      <td>0</td>\n",
              "      <td>1</td>\n",
              "      <td>197001.15</td>\n",
              "      <td>0</td>\n",
              "    </tr>\n",
              "  </tbody>\n",
              "</table>\n",
              "</div>"
            ],
            "text/plain": [
              "      CreditScore  Geography    Gender  ...  IsActiveMember  EstimatedSalary  Exited\n",
              "3465          692   0.324432  0.250715  ...               0        164621.43       0\n",
              "6228          663   0.324432  0.164559  ...               1         79169.73       0\n",
              "2091          661   0.161548  0.250715  ...               0         81102.81       0\n",
              "9007          726   0.161548  0.164559  ...               1        106117.30       0\n",
              "2613          630   0.161548  0.164559  ...               1        197001.15       0\n",
              "\n",
              "[5 rows x 11 columns]"
            ]
          },
          "metadata": {},
          "execution_count": 54
        }
      ]
    },
    {
      "cell_type": "markdown",
      "metadata": {
        "id": "zDuNs2frM3SM"
      },
      "source": [
        "Проверим данные на пропуски значений\n"
      ]
    },
    {
      "cell_type": "code",
      "metadata": {
        "colab": {
          "base_uri": "https://localhost:8080/"
        },
        "id": "JqwHORV04U5e",
        "outputId": "3b311a2b-fa74-42e5-df34-64ffab66056a"
      },
      "source": [
        "churn.info()"
      ],
      "execution_count": null,
      "outputs": [
        {
          "output_type": "stream",
          "name": "stdout",
          "text": [
            "<class 'pandas.core.frame.DataFrame'>\n",
            "RangeIndex: 10000 entries, 0 to 9999\n",
            "Data columns (total 11 columns):\n",
            " #   Column           Non-Null Count  Dtype  \n",
            "---  ------           --------------  -----  \n",
            " 0   CreditScore      10000 non-null  int64  \n",
            " 1   Geography        10000 non-null  float64\n",
            " 2   Gender           10000 non-null  float64\n",
            " 3   Age              10000 non-null  int64  \n",
            " 4   Tenure           10000 non-null  int64  \n",
            " 5   Balance          10000 non-null  float64\n",
            " 6   NumOfProducts    10000 non-null  int64  \n",
            " 7   HasCrCard        10000 non-null  int64  \n",
            " 8   IsActiveMember   10000 non-null  int64  \n",
            " 9   EstimatedSalary  10000 non-null  float64\n",
            " 10  Exited           10000 non-null  int64  \n",
            "dtypes: float64(4), int64(7)\n",
            "memory usage: 859.5 KB\n"
          ]
        }
      ]
    },
    {
      "cell_type": "markdown",
      "metadata": {
        "id": "N86ibJBfM825"
      },
      "source": [
        "Анализируем результата выполнения команды:\n",
        "\n",
        "- 10000 строк (entries)\n",
        "- 11 столбцов (Data columns)\n",
        "\n",
        "Теперь в данных присутствует всего два типа dtypes:\n",
        "- int64 - целое число (7 столбцов)\n",
        "- float64 - дробное число (4 столбца)\n",
        "\n",
        "Цифры в каждой строчке обозначают количество заполненных (non-null) значений. Так как эти цифры в каждой строчке совпадают с числом строк (10000), то в данных нет пропусков и можно двигаться дальше."
      ]
    },
    {
      "cell_type": "markdown",
      "metadata": {
        "id": "be_mLbdVW2oG"
      },
      "source": [
        "Используя либо свою реализацию, либо  `DecisionTreeClassifier` с разными настройками из `sklearn.tree` реализйте алгоритм \"случайный лес\". \n",
        "\n",
        "Нельзя использовать готовую реализацию случайного леса из `sklearn`."
      ]
    },
    {
      "cell_type": "code",
      "metadata": {
        "id": "438jFvexvZ_h"
      },
      "source": [
        "from sklearn.tree import DecisionTreeClassifier\n",
        "from sklearn.base import BaseEstimator"
      ],
      "execution_count": null,
      "outputs": []
    },
    {
      "cell_type": "code",
      "metadata": {
        "id": "Rmu_8ld2vdIu"
      },
      "source": [
        "class random_forest(BaseEstimator) :\n",
        "    def __init__(self, n_trees = 5, criterion = 'entropy', \n",
        "                 max_depth = 20, min_leaf_size = 2, max_leaf_count = 10):\n",
        "        self.n_trees = n_trees\n",
        "        self.trees = []\n",
        "        self.criterion = criterion\n",
        "        self.max_depth = max_depth\n",
        "        self.min_leaf_size = min_leaf_size\n",
        "        self.max_leaf_count = max_leaf_count\n",
        "\n",
        "    def bootstrap(self, X, y) :\n",
        "        m = len(X)\n",
        "        indexes = np.random.choice(m, m, replace = True)\n",
        "        return X.iloc[indexes, :], y.iloc[indexes]\n",
        "\n",
        "    def fit(self, X, y) :\n",
        "        for i in range(self.n_trees) :\n",
        "            X_with_repl, y_with_repl = self.bootstrap(X, y)\n",
        "            tree = DecisionTreeClassifier(max_depth = self.max_depth,\n",
        "                                          min_samples_leaf=self.min_leaf_size,\n",
        "                                          criterion = self.criterion,\n",
        "                                          max_leaf_nodes = self.max_leaf_count,\n",
        "                                          max_features = 'sqrt')\n",
        "            self.trees.append(tree.fit(X_with_repl, y_with_repl))\n",
        "        return self\n",
        "\n",
        "    def predict(self, X) :\n",
        "        predictions = np.array([tree.predict(X) for tree in self.trees])\n",
        "        y_predicted = [mode(predict).mode[0] for predict in predictions.T]\n",
        "        return y_predicted"
      ],
      "execution_count": null,
      "outputs": []
    },
    {
      "cell_type": "code",
      "metadata": {
        "id": "JM_pe9lOHHzV"
      },
      "source": [
        "X = churn.drop('Exited', axis = 1)\n",
        "y = churn['Exited']\n",
        "\n",
        "X_train, X_test, y_train, y_test = train_test_split(X, y, test_size=0.33, random_state=42)"
      ],
      "execution_count": null,
      "outputs": []
    },
    {
      "cell_type": "code",
      "metadata": {
        "colab": {
          "base_uri": "https://localhost:8080/"
        },
        "id": "y-55n3p_dauZ",
        "outputId": "ec1d4806-c9be-4180-dc91-830aeecdbbfd"
      },
      "source": [
        "model = random_forest().fit(X_train, y_train)\n",
        "y_predicted = model.predict(X_test)\n",
        "\n",
        "print('-- accuracy score --\\n', accuracy_score(y_test, y_predicted))"
      ],
      "execution_count": null,
      "outputs": [
        {
          "output_type": "stream",
          "name": "stdout",
          "text": [
            "-- accuracy score --\n",
            " 0.8606060606060606\n"
          ]
        }
      ]
    },
    {
      "cell_type": "markdown",
      "metadata": {
        "id": "ZP0OXa1eDK_q"
      },
      "source": [
        "Найдите наилучшие гиперпараметры этого алгоритма: количество деревьев, критерий остановки, функционал качества, минимальное количество объектов в листьях и другие."
      ]
    },
    {
      "cell_type": "code",
      "metadata": {
        "id": "mbcIDuC4xHvV"
      },
      "source": [
        "from sklearn.model_selection import GridSearchCV\n",
        "from sklearn.metrics import accuracy_score"
      ],
      "execution_count": null,
      "outputs": []
    },
    {
      "cell_type": "code",
      "metadata": {
        "id": "lUpOwf7JD8lT"
      },
      "source": [
        "forest = random_forest()\n",
        "\n",
        "forest_params = {\n",
        "    'n_trees': np.arange(5, 101, 5),\n",
        "    'max_depth': np.arange(2, 21, 2), \n",
        "    #'min_leaf_size': np.arange(1, 10, 2), \n",
        "    #'criterion': ['entropy', 'gini'],\n",
        "    #'max_leaf_count': np.arange(2, 20, 2)\n",
        "}\n",
        "\n",
        "forest_grid = GridSearchCV(forest, forest_params, scoring = 'accuracy')"
      ],
      "execution_count": null,
      "outputs": []
    },
    {
      "cell_type": "markdown",
      "metadata": {
        "id": "IcGrCHOEKOP9"
      },
      "source": [
        "Из-за долгой работы сократила число варьируемых параметров тут"
      ]
    },
    {
      "cell_type": "code",
      "metadata": {
        "colab": {
          "base_uri": "https://localhost:8080/"
        },
        "id": "BUzB7122dSLY",
        "outputId": "fd2ac3a1-1cb0-4b20-c213-0f02e8e0f207"
      },
      "source": [
        "%time\n",
        "forest_grid.fit(X_train, y_train)"
      ],
      "execution_count": null,
      "outputs": [
        {
          "output_type": "stream",
          "name": "stdout",
          "text": [
            "CPU times: user 4 µs, sys: 0 ns, total: 4 µs\n",
            "Wall time: 7.39 µs\n"
          ]
        },
        {
          "output_type": "execute_result",
          "data": {
            "text/plain": [
              "GridSearchCV(cv=None, error_score=nan,\n",
              "             estimator=random_forest(criterion='entropy', max_depth=20,\n",
              "                                     max_leaf_count=10, min_leaf_size=2,\n",
              "                                     n_trees=5),\n",
              "             iid='deprecated', n_jobs=None,\n",
              "             param_grid={'max_depth': array([ 2,  4,  6,  8, 10, 12, 14, 16, 18, 20]),\n",
              "                         'n_trees': array([  5,  10,  15,  20,  25,  30,  35,  40,  45,  50,  55,  60,  65,\n",
              "        70,  75,  80,  85,  90,  95, 100])},\n",
              "             pre_dispatch='2*n_jobs', refit=True, return_train_score=False,\n",
              "             scoring='accuracy', verbose=0)"
            ]
          },
          "metadata": {},
          "execution_count": 79
        }
      ]
    },
    {
      "cell_type": "code",
      "metadata": {
        "id": "zFLLAxNPxTRH",
        "colab": {
          "base_uri": "https://localhost:8080/"
        },
        "outputId": "c6fb24b8-2f67-4d9a-9d5a-ba7c0c31b03a"
      },
      "source": [
        "forest_grid.score(X_test, y_test)"
      ],
      "execution_count": null,
      "outputs": [
        {
          "output_type": "execute_result",
          "data": {
            "text/plain": [
              "0.8463636363636363"
            ]
          },
          "metadata": {},
          "execution_count": 80
        }
      ]
    },
    {
      "cell_type": "code",
      "metadata": {
        "id": "K-580OPRxWaZ",
        "colab": {
          "base_uri": "https://localhost:8080/"
        },
        "outputId": "32fbe333-2891-4b74-a8cd-d74886111ff2"
      },
      "source": [
        "forest_grid.best_estimator_"
      ],
      "execution_count": null,
      "outputs": [
        {
          "output_type": "execute_result",
          "data": {
            "text/plain": [
              "random_forest(criterion='entropy', max_depth=16, max_leaf_count=10,\n",
              "              min_leaf_size=2, n_trees=5)"
            ]
          },
          "metadata": {},
          "execution_count": 81
        }
      ]
    },
    {
      "cell_type": "code",
      "metadata": {
        "id": "KCth_vg7xY1o",
        "colab": {
          "base_uri": "https://localhost:8080/"
        },
        "outputId": "b85b6a0f-deb9-4748-b941-0245709dd9f7"
      },
      "source": [
        "forest_grid.best_params_"
      ],
      "execution_count": null,
      "outputs": [
        {
          "output_type": "execute_result",
          "data": {
            "text/plain": [
              "{'max_depth': 16, 'n_trees': 5}"
            ]
          },
          "metadata": {},
          "execution_count": 82
        }
      ]
    },
    {
      "cell_type": "markdown",
      "metadata": {
        "id": "IKmSX-DtKWA0"
      },
      "source": [
        "Когда все отработало, начинаем увеличивать параметры для подбора (большее количество требует более часа)"
      ]
    },
    {
      "cell_type": "code",
      "metadata": {
        "id": "L3WLZ2EjJ51T"
      },
      "source": [
        "forest1 = random_forest()\n",
        "\n",
        "forest_params1 = {\n",
        "    'n_trees': np.arange(2, 50, 5),\n",
        "    'max_depth': np.arange(2, 20, 4), \n",
        "    'min_leaf_size': np.arange(1, 20, 5), \n",
        "    'criterion': ['entropy', 'gini'],\n",
        "    'max_leaf_count': np.arange(2, 20, 4)\n",
        "}\n",
        "\n",
        "forest_grid1 = GridSearchCV(forest1, forest_params1, scoring = 'accuracy')"
      ],
      "execution_count": null,
      "outputs": []
    },
    {
      "cell_type": "code",
      "metadata": {
        "colab": {
          "base_uri": "https://localhost:8080/"
        },
        "id": "cHzB8VGDNv6n",
        "outputId": "f22b85d7-7b01-47dc-be1d-5634e6275e23"
      },
      "source": [
        "%time\n",
        "forest_grid1.fit(X_train, y_train)"
      ],
      "execution_count": null,
      "outputs": [
        {
          "output_type": "stream",
          "name": "stdout",
          "text": [
            "CPU times: user 3 µs, sys: 0 ns, total: 3 µs\n",
            "Wall time: 7.63 µs\n"
          ]
        },
        {
          "output_type": "execute_result",
          "data": {
            "text/plain": [
              "GridSearchCV(cv=None, error_score=nan,\n",
              "             estimator=random_forest(criterion='entropy', max_depth=20,\n",
              "                                     max_leaf_count=10, min_leaf_size=2,\n",
              "                                     n_trees=5),\n",
              "             iid='deprecated', n_jobs=None,\n",
              "             param_grid={'criterion': ['entropy', 'gini'],\n",
              "                         'max_depth': array([ 2,  6, 10, 14, 18]),\n",
              "                         'max_leaf_count': array([ 2,  6, 10, 14, 18]),\n",
              "                         'min_leaf_size': array([ 1,  6, 11, 16]),\n",
              "                         'n_trees': array([ 2,  7, 12, 17, 22, 27, 32, 37, 42, 47])},\n",
              "             pre_dispatch='2*n_jobs', refit=True, return_train_score=False,\n",
              "             scoring='accuracy', verbose=0)"
            ]
          },
          "metadata": {},
          "execution_count": 89
        }
      ]
    },
    {
      "cell_type": "code",
      "metadata": {
        "colab": {
          "base_uri": "https://localhost:8080/"
        },
        "id": "U725edxuKGLf",
        "outputId": "b9cc0786-4110-43aa-fe86-57c8a2c2dd09"
      },
      "source": [
        "forest_grid1.score(X_test, y_test)"
      ],
      "execution_count": null,
      "outputs": [
        {
          "output_type": "execute_result",
          "data": {
            "text/plain": [
              "0.860909090909091"
            ]
          },
          "metadata": {},
          "execution_count": 90
        }
      ]
    },
    {
      "cell_type": "code",
      "metadata": {
        "colab": {
          "base_uri": "https://localhost:8080/"
        },
        "id": "K_6qp7sYKI2T",
        "outputId": "e91a85ac-d8a0-4d9a-c882-f6d49fc85967"
      },
      "source": [
        "forest_grid1.best_estimator_"
      ],
      "execution_count": null,
      "outputs": [
        {
          "output_type": "execute_result",
          "data": {
            "text/plain": [
              "random_forest(criterion='gini', max_depth=18, max_leaf_count=18,\n",
              "              min_leaf_size=1, n_trees=27)"
            ]
          },
          "metadata": {},
          "execution_count": 91
        }
      ]
    },
    {
      "cell_type": "code",
      "metadata": {
        "colab": {
          "base_uri": "https://localhost:8080/"
        },
        "id": "2HnV8mruKKoT",
        "outputId": "74cdf4b2-dccc-4d28-a13a-26160b4b0074"
      },
      "source": [
        "forest_grid1.best_params_"
      ],
      "execution_count": null,
      "outputs": [
        {
          "output_type": "execute_result",
          "data": {
            "text/plain": [
              "{'criterion': 'gini',\n",
              " 'max_depth': 18,\n",
              " 'max_leaf_count': 18,\n",
              " 'min_leaf_size': 1,\n",
              " 'n_trees': 27}"
            ]
          },
          "metadata": {},
          "execution_count": 92
        }
      ]
    },
    {
      "cell_type": "markdown",
      "metadata": {
        "id": "vx5gD0G2DP1V"
      },
      "source": [
        "В подобных задачах очень важна интерпретируемость алгоритма. Попытайтесь оценить информативность признаков, т.е. ответить а вопрос, значения каких признаков являются самыми важными индикаторами того, что банк потеряет клиента."
      ]
    },
    {
      "cell_type": "code",
      "metadata": {
        "colab": {
          "base_uri": "https://localhost:8080/"
        },
        "id": "M7LhdJ5X-U2A",
        "outputId": "ce892a1d-8af3-485e-9aee-b8564f7ce539"
      },
      "source": [
        "forest_grid1.best_estimator_.trees[0].feature_importances_"
      ],
      "execution_count": null,
      "outputs": [
        {
          "output_type": "execute_result",
          "data": {
            "text/plain": [
              "array([0.01070917, 0.10206112, 0.        , 0.2472615 , 0.0098217 ,\n",
              "       0.13312706, 0.44177772, 0.        , 0.0459421 , 0.00929962])"
            ]
          },
          "metadata": {},
          "execution_count": 95
        }
      ]
    },
    {
      "cell_type": "code",
      "metadata": {
        "id": "EoB3497_96N6"
      },
      "source": [
        "best_model_trees = forest_grid1.best_estimator_.trees\n",
        "n_trees = len(best_model_trees)\n",
        "\n",
        "importances_array = sum(best_model_trees[i].feature_importances_ for i in range(n_trees)) / n_trees"
      ],
      "execution_count": null,
      "outputs": []
    },
    {
      "cell_type": "code",
      "metadata": {
        "colab": {
          "base_uri": "https://localhost:8080/",
          "height": 359
        },
        "id": "YfBui90cC5l2",
        "outputId": "d7bdd9f5-d832-4927-9374-d7e1c90802f8"
      },
      "source": [
        "feature_importances = pd.DataFrame(index = X.columns, data = {'Importance' : importances_array})\n",
        "\n",
        "feature_importances = feature_importances.sort_values(by = 'Importance', ascending = False)\n",
        "feature_importances"
      ],
      "execution_count": null,
      "outputs": [
        {
          "output_type": "execute_result",
          "data": {
            "text/html": [
              "<div>\n",
              "<style scoped>\n",
              "    .dataframe tbody tr th:only-of-type {\n",
              "        vertical-align: middle;\n",
              "    }\n",
              "\n",
              "    .dataframe tbody tr th {\n",
              "        vertical-align: top;\n",
              "    }\n",
              "\n",
              "    .dataframe thead th {\n",
              "        text-align: right;\n",
              "    }\n",
              "</style>\n",
              "<table border=\"1\" class=\"dataframe\">\n",
              "  <thead>\n",
              "    <tr style=\"text-align: right;\">\n",
              "      <th></th>\n",
              "      <th>Importance</th>\n",
              "    </tr>\n",
              "  </thead>\n",
              "  <tbody>\n",
              "    <tr>\n",
              "      <th>Age</th>\n",
              "      <td>0.377556</td>\n",
              "    </tr>\n",
              "    <tr>\n",
              "      <th>NumOfProducts</th>\n",
              "      <td>0.318074</td>\n",
              "    </tr>\n",
              "    <tr>\n",
              "      <th>IsActiveMember</th>\n",
              "      <td>0.106027</td>\n",
              "    </tr>\n",
              "    <tr>\n",
              "      <th>Geography</th>\n",
              "      <td>0.082424</td>\n",
              "    </tr>\n",
              "    <tr>\n",
              "      <th>Balance</th>\n",
              "      <td>0.075020</td>\n",
              "    </tr>\n",
              "    <tr>\n",
              "      <th>CreditScore</th>\n",
              "      <td>0.013487</td>\n",
              "    </tr>\n",
              "    <tr>\n",
              "      <th>EstimatedSalary</th>\n",
              "      <td>0.012089</td>\n",
              "    </tr>\n",
              "    <tr>\n",
              "      <th>Gender</th>\n",
              "      <td>0.009937</td>\n",
              "    </tr>\n",
              "    <tr>\n",
              "      <th>Tenure</th>\n",
              "      <td>0.005140</td>\n",
              "    </tr>\n",
              "    <tr>\n",
              "      <th>HasCrCard</th>\n",
              "      <td>0.000247</td>\n",
              "    </tr>\n",
              "  </tbody>\n",
              "</table>\n",
              "</div>"
            ],
            "text/plain": [
              "                 Importance\n",
              "Age                0.377556\n",
              "NumOfProducts      0.318074\n",
              "IsActiveMember     0.106027\n",
              "Geography          0.082424\n",
              "Balance            0.075020\n",
              "CreditScore        0.013487\n",
              "EstimatedSalary    0.012089\n",
              "Gender             0.009937\n",
              "Tenure             0.005140\n",
              "HasCrCard          0.000247"
            ]
          },
          "metadata": {},
          "execution_count": 128
        }
      ]
    },
    {
      "cell_type": "code",
      "metadata": {
        "colab": {
          "base_uri": "https://localhost:8080/"
        },
        "id": "7wfgzsuAOaAl",
        "outputId": "439b95c1-28be-4cc4-b0d1-e1a5b664e6d0"
      },
      "source": [
        "importances_array.mean()"
      ],
      "execution_count": null,
      "outputs": [
        {
          "output_type": "execute_result",
          "data": {
            "text/plain": [
              "0.09999999999999999"
            ]
          },
          "metadata": {},
          "execution_count": 137
        }
      ]
    },
    {
      "cell_type": "markdown",
      "metadata": {
        "id": "O5NBek8XQVr9"
      },
      "source": [
        "На практике задают количество оставляемых параметров, потому нельзя сказать определенно, какие параметры нужно убрать. а какие оставить\n",
        "\n",
        "Будем считать наиболее значимыми те параметры, для которых рассчитанное значение не меньше медианного значения более чем на треть."
      ]
    },
    {
      "cell_type": "code",
      "metadata": {
        "colab": {
          "base_uri": "https://localhost:8080/",
          "height": 204
        },
        "id": "EL432mpxRL_t",
        "outputId": "a3581df3-05f6-45d3-d7bf-3159125b47dd"
      },
      "source": [
        "feature_importances[feature_importances['Importance'] >= 2 / 3 * importances_array.mean()]"
      ],
      "execution_count": null,
      "outputs": [
        {
          "output_type": "execute_result",
          "data": {
            "text/html": [
              "<div>\n",
              "<style scoped>\n",
              "    .dataframe tbody tr th:only-of-type {\n",
              "        vertical-align: middle;\n",
              "    }\n",
              "\n",
              "    .dataframe tbody tr th {\n",
              "        vertical-align: top;\n",
              "    }\n",
              "\n",
              "    .dataframe thead th {\n",
              "        text-align: right;\n",
              "    }\n",
              "</style>\n",
              "<table border=\"1\" class=\"dataframe\">\n",
              "  <thead>\n",
              "    <tr style=\"text-align: right;\">\n",
              "      <th></th>\n",
              "      <th>Importance</th>\n",
              "    </tr>\n",
              "  </thead>\n",
              "  <tbody>\n",
              "    <tr>\n",
              "      <th>Age</th>\n",
              "      <td>0.377556</td>\n",
              "    </tr>\n",
              "    <tr>\n",
              "      <th>NumOfProducts</th>\n",
              "      <td>0.318074</td>\n",
              "    </tr>\n",
              "    <tr>\n",
              "      <th>IsActiveMember</th>\n",
              "      <td>0.106027</td>\n",
              "    </tr>\n",
              "    <tr>\n",
              "      <th>Geography</th>\n",
              "      <td>0.082424</td>\n",
              "    </tr>\n",
              "    <tr>\n",
              "      <th>Balance</th>\n",
              "      <td>0.075020</td>\n",
              "    </tr>\n",
              "  </tbody>\n",
              "</table>\n",
              "</div>"
            ],
            "text/plain": [
              "                Importance\n",
              "Age               0.377556\n",
              "NumOfProducts     0.318074\n",
              "IsActiveMember    0.106027\n",
              "Geography         0.082424\n",
              "Balance           0.075020"
            ]
          },
          "metadata": {},
          "execution_count": 136
        }
      ]
    },
    {
      "cell_type": "markdown",
      "metadata": {
        "id": "ukdGDrJ7IZ0z"
      },
      "source": [
        "Наиболее значимые параметры\n",
        "- Age — this is certainly relevant, since older customers are less likely to leave their bank than younger ones.\n",
        "- NumOfProducts — refers to the number of products that a customer has purchased through the bank. (чем больше продуктов открыто у человека, тем меньше вероятность, что он решит их закрывать)\n",
        "- IsActiveMember — active customers are less likely to leave the bank.\n",
        "- Geography — a customer’s location can affect their decision to leave the bank. (переезд или просто неудобное расположение по отношению к банку могут стать причиной ухода из него)\n",
        "- Balance — also a very good indicator of customer churn, as people with a higher balance in their accounts are less likely to leave the bank compared to those with lower balances.\n"
      ]
    }
  ]
}