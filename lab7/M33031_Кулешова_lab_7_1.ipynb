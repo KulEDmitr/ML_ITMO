{
  "nbformat": 4,
  "nbformat_minor": 0,
  "metadata": {
    "colab": {
      "name": "M33031_Кулешова_lab_7_1.ipynb",
      "provenance": [],
      "collapsed_sections": []
    },
    "kernelspec": {
      "display_name": "Python 3",
      "language": "python",
      "name": "python3"
    },
    "language_info": {
      "codemirror_mode": {
        "name": "ipython",
        "version": 3
      },
      "file_extension": ".py",
      "mimetype": "text/x-python",
      "name": "python",
      "nbconvert_exporter": "python",
      "pygments_lexer": "ipython3",
      "version": "3.6.5"
    }
  },
  "cells": [
    {
      "cell_type": "markdown",
      "metadata": {
        "id": "vcnGdgw_YJ8u"
      },
      "source": [
        "# PyTorch. Основы: синтаксис, torch.cuda и torch.autograd\n",
        "\n",
        "## Задание 7.1"
      ]
    },
    {
      "cell_type": "code",
      "metadata": {
        "id": "RtyozNmmYJ89"
      },
      "source": [
        "import torch\n",
        "import matplotlib.pyplot as plt\n",
        "import numpy as np"
      ],
      "execution_count": null,
      "outputs": []
    },
    {
      "cell_type": "markdown",
      "metadata": {
        "id": "ny4-Qi2wYJ-6"
      },
      "source": [
        "### Задача 1"
      ]
    },
    {
      "cell_type": "markdown",
      "metadata": {
        "id": "IWxlFq0bYJ-_"
      },
      "source": [
        "1). Создайте два вещественных тензора: `a` размером (3, 4) и `b` размером (12,)   "
      ]
    },
    {
      "cell_type": "code",
      "metadata": {
        "id": "3oxZuk3yYJ_A",
        "colab": {
          "base_uri": "https://localhost:8080/"
        },
        "outputId": "264984a6-206c-44ac-f44e-005490fe96ac"
      },
      "source": [
        "#Созданные данным способом заполнятся нулями. Нам нужны вещественные числа,поэтому можно использовать rand()\n",
        "#a = torch.FloatTensor(3, 4)\n",
        "#b = torch.FloatTensor(12)\n",
        "a = torch.rand(3, 4)\n",
        "b = torch.rand(12)\n",
        "a, b"
      ],
      "execution_count": null,
      "outputs": [
        {
          "output_type": "execute_result",
          "data": {
            "text/plain": [
              "(tensor([[0.7580, 0.7810, 0.5685, 0.2363],\n",
              "         [0.4591, 0.0468, 0.2701, 0.8296],\n",
              "         [0.7522, 0.6048, 0.0117, 0.9057]]),\n",
              " tensor([0.7392, 0.5577, 0.5198, 0.7744, 0.9225, 0.7376, 0.1351, 0.0131, 0.7863,\n",
              "         0.1267, 0.1077, 0.0889]))"
            ]
          },
          "metadata": {},
          "execution_count": 2
        }
      ]
    },
    {
      "cell_type": "markdown",
      "source": [
        "2). Создайте тензор `c`, являющийся тензором `b`, но размера (2, 2, 3)  "
      ],
      "metadata": {
        "id": "wOPRpRy-MK32"
      }
    },
    {
      "cell_type": "code",
      "source": [
        "c = b.view(2, 2, 3)\n",
        "c"
      ],
      "metadata": {
        "id": "o207YzmNMFby",
        "colab": {
          "base_uri": "https://localhost:8080/"
        },
        "outputId": "c6b27d62-3c7e-46a8-8386-ce1cb2e9c2b7"
      },
      "execution_count": null,
      "outputs": [
        {
          "output_type": "execute_result",
          "data": {
            "text/plain": [
              "tensor([[[0.7392, 0.5577, 0.5198],\n",
              "         [0.7744, 0.9225, 0.7376]],\n",
              "\n",
              "        [[0.1351, 0.0131, 0.7863],\n",
              "         [0.1267, 0.1077, 0.0889]]])"
            ]
          },
          "metadata": {},
          "execution_count": 3
        }
      ]
    },
    {
      "cell_type": "markdown",
      "source": [
        "3). Выведите первый столбец матрицы `a` с помощью индексации"
      ],
      "metadata": {
        "id": "3nNDZeKyMM34"
      }
    },
    {
      "cell_type": "code",
      "source": [
        "a[:, :1]"
      ],
      "metadata": {
        "colab": {
          "base_uri": "https://localhost:8080/"
        },
        "id": "HecZcj51MG41",
        "outputId": "d3986502-dd82-4f31-e3a3-50aeb7ba5135"
      },
      "execution_count": null,
      "outputs": [
        {
          "output_type": "execute_result",
          "data": {
            "text/plain": [
              "tensor([[0.7580],\n",
              "        [0.4591],\n",
              "        [0.7522]])"
            ]
          },
          "metadata": {},
          "execution_count": 4
        }
      ]
    },
    {
      "cell_type": "code",
      "source": [
        "#Можем вывести этот же столбец но уже в формате строки\n",
        "a[:, 0]"
      ],
      "metadata": {
        "colab": {
          "base_uri": "https://localhost:8080/"
        },
        "id": "KYeZH63p5ajx",
        "outputId": "2dcd2b46-49e7-4d30-981f-3eaf5d35f2a0"
      },
      "execution_count": null,
      "outputs": [
        {
          "output_type": "execute_result",
          "data": {
            "text/plain": [
              "tensor([0.7580, 0.4591, 0.7522])"
            ]
          },
          "metadata": {},
          "execution_count": 5
        }
      ]
    },
    {
      "cell_type": "markdown",
      "metadata": {
        "id": "D2IP_FrKYKAA"
      },
      "source": [
        "### Задача 2"
      ]
    },
    {
      "cell_type": "markdown",
      "metadata": {
        "id": "tBZFbSYQYKAA"
      },
      "source": [
        "1). Создайте два вещественных тензора: `a` размером (5, 2) и `b` размером (1,10)   "
      ]
    },
    {
      "cell_type": "code",
      "metadata": {
        "id": "hzs2bH3GYKAB",
        "colab": {
          "base_uri": "https://localhost:8080/"
        },
        "outputId": "6b94ecae-9b5f-43b6-cb2b-2aaa25da550d"
      },
      "source": [
        "a = torch.rand(5, 2)\n",
        "b = torch.rand(1, 10)\n",
        "a, b"
      ],
      "execution_count": null,
      "outputs": [
        {
          "output_type": "execute_result",
          "data": {
            "text/plain": [
              "(tensor([[0.7182, 0.4050],\n",
              "         [0.6204, 0.7472],\n",
              "         [0.8674, 0.6903],\n",
              "         [0.0296, 0.0859],\n",
              "         [0.9788, 0.3880]]),\n",
              " tensor([[0.8461, 0.8174, 0.5288, 0.7076, 0.5362, 0.7380, 0.1920, 0.5557, 0.7742,\n",
              "          0.3520]]))"
            ]
          },
          "metadata": {},
          "execution_count": 6
        }
      ]
    },
    {
      "cell_type": "markdown",
      "source": [
        "2). Создайте тензор `c`, являющийся тензором `b`, но размера (5, 2)  "
      ],
      "metadata": {
        "id": "DFzYJ7xFL-Wx"
      }
    },
    {
      "cell_type": "code",
      "source": [
        "c = b.view(5, 2)\n",
        "c"
      ],
      "metadata": {
        "colab": {
          "base_uri": "https://localhost:8080/"
        },
        "id": "xBA6gB7BL_Xk",
        "outputId": "5fa43954-d3fa-4051-ce53-97b87512a266"
      },
      "execution_count": null,
      "outputs": [
        {
          "output_type": "execute_result",
          "data": {
            "text/plain": [
              "tensor([[0.8461, 0.8174],\n",
              "        [0.5288, 0.7076],\n",
              "        [0.5362, 0.7380],\n",
              "        [0.1920, 0.5557],\n",
              "        [0.7742, 0.3520]])"
            ]
          },
          "metadata": {},
          "execution_count": 7
        }
      ]
    },
    {
      "cell_type": "markdown",
      "source": [
        "3). Произведите все арифметические операции с тензорами `a` и `c`"
      ],
      "metadata": {
        "id": "0OxYovzCL32V"
      }
    },
    {
      "cell_type": "code",
      "source": [
        "#Сложение\n",
        "a.add(c)"
      ],
      "metadata": {
        "colab": {
          "base_uri": "https://localhost:8080/"
        },
        "id": "5999hJq9qaSB",
        "outputId": "4786fbc6-f314-45ae-e32a-b0c462b7a463"
      },
      "execution_count": null,
      "outputs": [
        {
          "output_type": "execute_result",
          "data": {
            "text/plain": [
              "tensor([[1.5644, 1.2224],\n",
              "        [1.1491, 1.4548],\n",
              "        [1.4036, 1.4283],\n",
              "        [0.2216, 0.6416],\n",
              "        [1.7529, 0.7400]])"
            ]
          },
          "metadata": {},
          "execution_count": 8
        }
      ]
    },
    {
      "cell_type": "code",
      "source": [
        "#Вычитание\n",
        "a.sub(c)"
      ],
      "metadata": {
        "colab": {
          "base_uri": "https://localhost:8080/"
        },
        "id": "0SdFswIkqhGe",
        "outputId": "6ed271fc-ca9e-42ce-863a-c58fa801b126"
      },
      "execution_count": null,
      "outputs": [
        {
          "output_type": "execute_result",
          "data": {
            "text/plain": [
              "tensor([[-0.1279, -0.4124],\n",
              "        [ 0.0916,  0.0395],\n",
              "        [ 0.3311, -0.0476],\n",
              "        [-0.1624, -0.4698],\n",
              "        [ 0.2046,  0.0359]])"
            ]
          },
          "metadata": {},
          "execution_count": 9
        }
      ]
    },
    {
      "cell_type": "code",
      "source": [
        "#Умножение\n",
        "a.mul(c)"
      ],
      "metadata": {
        "colab": {
          "base_uri": "https://localhost:8080/"
        },
        "id": "v2FntZOvqlZy",
        "outputId": "468b1da5-1590-4228-e6e1-34fb13f009f8"
      },
      "execution_count": null,
      "outputs": [
        {
          "output_type": "execute_result",
          "data": {
            "text/plain": [
              "tensor([[0.6077, 0.3310],\n",
              "        [0.3280, 0.5287],\n",
              "        [0.4651, 0.5094],\n",
              "        [0.0057, 0.0477],\n",
              "        [0.7577, 0.1366]])"
            ]
          },
          "metadata": {},
          "execution_count": 10
        }
      ]
    },
    {
      "cell_type": "code",
      "source": [
        "#Деление\n",
        "a.div(c)"
      ],
      "metadata": {
        "colab": {
          "base_uri": "https://localhost:8080/"
        },
        "id": "Gl3zanTsqrLp",
        "outputId": "3b462bc6-c672-435f-c26a-5ffc8947f4a3"
      },
      "execution_count": null,
      "outputs": [
        {
          "output_type": "execute_result",
          "data": {
            "text/plain": [
              "tensor([[0.8489, 0.4954],\n",
              "        [1.1733, 1.0559],\n",
              "        [1.6175, 0.9354],\n",
              "        [0.1542, 0.1545],\n",
              "        [1.2643, 1.1021]])"
            ]
          },
          "metadata": {},
          "execution_count": 11
        }
      ]
    },
    {
      "cell_type": "markdown",
      "metadata": {
        "id": "rIaroFO6YKBT"
      },
      "source": [
        "### Задача 3"
      ]
    },
    {
      "cell_type": "markdown",
      "metadata": {
        "id": "GfLHVvKvYKBT"
      },
      "source": [
        "1). Создайте тензор *целых чисел* `images` размерности (100, 200, 200, 3) (можно интерпретировать это как 100 картинок размера 200х200 с тремя цветовыми каналами, то есть 100 цветных изображений 200х200). Заполните его нулями  "
      ]
    },
    {
      "cell_type": "code",
      "metadata": {
        "id": "pZVGHEQQYKBU"
      },
      "source": [
        "images = torch.IntTensor(100, 200, 200, 3).zero_()"
      ],
      "execution_count": null,
      "outputs": []
    },
    {
      "cell_type": "markdown",
      "source": [
        "2). Сделайте так, чтобы у $i$-ой по порядку картинки была нарисована белая полоса толщиной два пикселя в строках, которые соответствуют номеру картинки. Например, у 3-ей по порядку картинки белая полоска будет занимать 6 и 7 строки, у 99 - 198 и 199. Сделать белую строку можно, записав в ячейки тензора число 255 (по всем трём каналам). "
      ],
      "metadata": {
        "id": "bsXw663tLugl"
      }
    },
    {
      "cell_type": "code",
      "source": [
        "white_rows = torch.ones(2, 200, 3) * 255\n",
        "for i in range(100) :\n",
        "    images[i, 2*i:2*(i+1)] = white_rows"
      ],
      "metadata": {
        "id": "6pPfEes0LnfU"
      },
      "execution_count": null,
      "outputs": []
    },
    {
      "cell_type": "markdown",
      "source": [
        "Выведите несколько примеров с помощью `pylot` "
      ],
      "metadata": {
        "id": "YuM-wlDQ7cbc"
      }
    },
    {
      "cell_type": "code",
      "source": [
        "fig = plt.figure(figsize=(50,120))\n",
        "\n",
        "item = 1\n",
        "for i in np.arange(0, 100, 20) :\n",
        "    ax = fig.add_subplot(1, 5, item)\n",
        "    item += 1\n",
        "    imgplot = plt.imshow(images[i])\n",
        "    ax.set_title('picture ' + str(i), fontsize=30)"
      ],
      "metadata": {
        "colab": {
          "base_uri": "https://localhost:8080/",
          "height": 231
        },
        "id": "pcocnXqw7ZRw",
        "outputId": "402c6d9c-c5a0-427c-9a0d-977b0b11ebdd"
      },
      "execution_count": null,
      "outputs": [
        {
          "output_type": "display_data",
          "data": {
            "image/png": "[encoded data removed]",
            "text/plain": [
              "<Figure size 3600x8640 with 5 Axes>"
            ]
          },
          "metadata": {
            "needs_background": "light"
          }
        }
      ]
    },
    {
      "cell_type": "markdown",
      "source": [
        "3). Посчитайте среднее тензора `images` по 1-ой оси (по сути - средняя картинка), умножьте полученный тензор на 70. Нарисуйте с помощью `pyplot`, должна получиться серая картинка (при взятии среднего нужно привести тензор к float с помощью `.float()`, при отрисовке обратно к int с помощью `.int()`)"
      ],
      "metadata": {
        "id": "SQn4p5cOLydn"
      }
    },
    {
      "cell_type": "code",
      "source": [
        "mean_image = images.float().mean(0) * 70\n",
        "\n",
        "fig = plt.figure()\n",
        "imgplot = plt.imshow(mean_image.int())"
      ],
      "metadata": {
        "colab": {
          "base_uri": "https://localhost:8080/",
          "height": 269
        },
        "id": "7gRGRVK3C2JP",
        "outputId": "40b420a3-5ddb-4a45-dc92-6a9c01796c74"
      },
      "execution_count": null,
      "outputs": [
        {
          "output_type": "display_data",
          "data": {
            "image/png": "[encoded data removed]",
            "text/plain": [
              "<Figure size 432x288 with 1 Axes>"
            ]
          },
          "metadata": {
            "needs_background": "light"
          }
        }
      ]
    },
    {
      "cell_type": "markdown",
      "metadata": {
        "id": "oQnhq5ZdYKCu"
      },
      "source": [
        "### Задача 4"
      ]
    },
    {
      "cell_type": "markdown",
      "metadata": {
        "id": "UB95BhgTYKCu"
      },
      "source": [
        "- В Colab нажмите в меню сверху: `Runtime` -> `Change Runtime Type` -> `GPU`, где изначально стоит `None` (`Среда выполнение` - `Сменить среду выполнения`)\n",
        "- Объявите тензор `a` размера (2, 3, 4) и тензор `b` размера (1, 8, 3) на GPU, иницилизируйте их случайно равномерно (`.uniform_()`)"
      ]
    },
    {
      "cell_type": "code",
      "source": [
        "import torch"
      ],
      "metadata": {
        "id": "yMpV1FGkNgFt"
      },
      "execution_count": null,
      "outputs": []
    },
    {
      "cell_type": "code",
      "source": [
        "a = torch.FloatTensor(2, 3, 4).uniform_().cuda()\n",
        "b = torch.FloatTensor(1, 8, 3).uniform_().cuda()\n",
        "a, b"
      ],
      "metadata": {
        "id": "SaWqv7xQNCfp",
        "colab": {
          "base_uri": "https://localhost:8080/"
        },
        "outputId": "db92080e-0084-4b34-f6ba-561209174baf"
      },
      "execution_count": null,
      "outputs": [
        {
          "output_type": "execute_result",
          "data": {
            "text/plain": [
              "(tensor([[[0.5041, 0.8880, 0.2195, 0.8011],\n",
              "          [0.8134, 0.1568, 0.6048, 0.1995],\n",
              "          [0.0139, 0.0532, 0.4776, 0.5251]],\n",
              " \n",
              "         [[0.9842, 0.0304, 0.1613, 0.6781],\n",
              "          [0.1224, 0.6226, 0.3451, 0.2345],\n",
              "          [0.5531, 0.6187, 0.7626, 0.2095]]], device='cuda:0'),\n",
              " tensor([[[0.6755, 0.8087, 0.6232],\n",
              "          [0.7597, 0.9213, 0.3418],\n",
              "          [0.7459, 0.6385, 0.5631],\n",
              "          [0.0583, 0.5295, 0.0241],\n",
              "          [0.5120, 0.8605, 0.3137],\n",
              "          [0.9376, 0.4157, 0.5868],\n",
              "          [0.4385, 0.4511, 0.8623],\n",
              "          [0.4089, 0.6516, 0.6476]]], device='cuda:0'))"
            ]
          },
          "metadata": {},
          "execution_count": 27
        }
      ]
    },
    {
      "cell_type": "markdown",
      "source": [
        "- Затем измените форму тензора `b`, чтобы она совпадала с формой тензора `a`, получите тензор `c`  "
      ],
      "metadata": {
        "id": "TsTw_3JoM1Oc"
      }
    },
    {
      "cell_type": "code",
      "source": [
        "c = b.view(a.shape)\n",
        "c"
      ],
      "metadata": {
        "colab": {
          "base_uri": "https://localhost:8080/"
        },
        "id": "pmRAraOJNDU6",
        "outputId": "c42b59ab-7189-4744-8bca-f6a359d848f5"
      },
      "execution_count": null,
      "outputs": [
        {
          "output_type": "execute_result",
          "data": {
            "text/plain": [
              "tensor([[[0.6755, 0.8087, 0.6232, 0.7597],\n",
              "         [0.9213, 0.3418, 0.7459, 0.6385],\n",
              "         [0.5631, 0.0583, 0.5295, 0.0241]],\n",
              "\n",
              "        [[0.5120, 0.8605, 0.3137, 0.9376],\n",
              "         [0.4157, 0.5868, 0.4385, 0.4511],\n",
              "         [0.8623, 0.4089, 0.6516, 0.6476]]], device='cuda:0')"
            ]
          },
          "metadata": {},
          "execution_count": 28
        }
      ]
    },
    {
      "cell_type": "code",
      "source": [
        "a.shape == c.shape"
      ],
      "metadata": {
        "colab": {
          "base_uri": "https://localhost:8080/"
        },
        "id": "s1LrDxah8h6j",
        "outputId": "0b081e6e-5050-49ed-9304-393d394f86b4"
      },
      "execution_count": null,
      "outputs": [
        {
          "output_type": "execute_result",
          "data": {
            "text/plain": [
              "True"
            ]
          },
          "metadata": {},
          "execution_count": 30
        }
      ]
    },
    {
      "cell_type": "markdown",
      "source": [
        "- Переместите `c` на CPU, переместите `a` на CPU"
      ],
      "metadata": {
        "id": "CUyhIDjRM5pJ"
      }
    },
    {
      "cell_type": "code",
      "source": [
        "from torch.autograd import Variable"
      ],
      "metadata": {
        "id": "UNs2wRTVOQd8"
      },
      "execution_count": null,
      "outputs": []
    },
    {
      "cell_type": "code",
      "source": [
        "a = a.cpu()\n",
        "c = c.cpu()\n",
        "a, c"
      ],
      "metadata": {
        "colab": {
          "base_uri": "https://localhost:8080/"
        },
        "id": "_kmF9S4z8-Gd",
        "outputId": "3510fe8e-680b-4927-9363-d501f8495f71"
      },
      "execution_count": null,
      "outputs": [
        {
          "output_type": "execute_result",
          "data": {
            "text/plain": [
              "(tensor([[[0.5041, 0.8880, 0.2195, 0.8011],\n",
              "          [0.8134, 0.1568, 0.6048, 0.1995],\n",
              "          [0.0139, 0.0532, 0.4776, 0.5251]],\n",
              " \n",
              "         [[0.9842, 0.0304, 0.1613, 0.6781],\n",
              "          [0.1224, 0.6226, 0.3451, 0.2345],\n",
              "          [0.5531, 0.6187, 0.7626, 0.2095]]]),\n",
              " tensor([[[0.6755, 0.8087, 0.6232, 0.7597],\n",
              "          [0.9213, 0.3418, 0.7459, 0.6385],\n",
              "          [0.5631, 0.0583, 0.5295, 0.0241]],\n",
              " \n",
              "         [[0.5120, 0.8605, 0.3137, 0.9376],\n",
              "          [0.4157, 0.5868, 0.4385, 0.4511],\n",
              "          [0.8623, 0.4089, 0.6516, 0.6476]]]))"
            ]
          },
          "metadata": {},
          "execution_count": 31
        }
      ]
    },
    {
      "cell_type": "code",
      "source": [
        "c.is_cuda, a.is_cuda"
      ],
      "metadata": {
        "colab": {
          "base_uri": "https://localhost:8080/"
        },
        "id": "K6LTswbB9NZN",
        "outputId": "91d8ba2b-c83b-412f-b118-3dd8ee50e74f"
      },
      "execution_count": null,
      "outputs": [
        {
          "output_type": "execute_result",
          "data": {
            "text/plain": [
              "(False, False)"
            ]
          },
          "metadata": {},
          "execution_count": 34
        }
      ]
    },
    {
      "cell_type": "markdown",
      "source": [
        "- Оберните их в `Variable()`"
      ],
      "metadata": {
        "id": "5WtT9FGU883A"
      }
    },
    {
      "cell_type": "code",
      "source": [
        "a = Variable(a, requires_grad=False)\n",
        "c = Variable(c, requires_grad=True)"
      ],
      "metadata": {
        "id": "_OqvbgpxND-o"
      },
      "execution_count": null,
      "outputs": []
    },
    {
      "cell_type": "markdown",
      "source": [
        "- Объявите тензор `L = torch.mean((c - a) `**` 2)` и посчитайте градиент `L` по `c` ( то есть $\\frac{\\partial{L}}{\\partial{c}})$"
      ],
      "metadata": {
        "id": "-IG8sUSjM8Fn"
      }
    },
    {
      "cell_type": "code",
      "source": [
        "L = torch.mean((c - a)**2)\n",
        "L.backward()"
      ],
      "metadata": {
        "id": "1cW30v_kNExd"
      },
      "execution_count": null,
      "outputs": []
    },
    {
      "cell_type": "markdown",
      "source": [
        "- Выведите градиент `L` по `c`"
      ],
      "metadata": {
        "id": "eBIilloiM_C6"
      }
    },
    {
      "cell_type": "code",
      "metadata": {
        "id": "WESOm5TCYKCv",
        "colab": {
          "base_uri": "https://localhost:8080/"
        },
        "outputId": "e4ac79d1-ae17-44be-8a9e-3c8b8b437587"
      },
      "source": [
        "c.grad"
      ],
      "execution_count": null,
      "outputs": [
        {
          "output_type": "execute_result",
          "data": {
            "text/plain": [
              "tensor([[[ 0.0143, -0.0066,  0.0336, -0.0034],\n",
              "         [ 0.0090,  0.0154,  0.0118,  0.0366],\n",
              "         [ 0.0458,  0.0004,  0.0043, -0.0418]],\n",
              "\n",
              "        [[-0.0393,  0.0692,  0.0127,  0.0216],\n",
              "         [ 0.0244, -0.0030,  0.0078,  0.0180],\n",
              "         [ 0.0258, -0.0175, -0.0092,  0.0365]]])"
            ]
          },
          "metadata": {},
          "execution_count": 37
        }
      ]
    }
  ]
}